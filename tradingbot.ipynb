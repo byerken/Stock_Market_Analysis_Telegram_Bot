{
 "cells": [
  {
   "metadata": {},
   "cell_type": "markdown",
   "source": "To make a bot-financial manager, that can decide whether to buy, sell, or pass stocks, we should first import all libraries",
   "id": "557362ba8e3eeddf"
  },
  {
   "metadata": {
    "ExecuteTime": {
     "end_time": "2025-03-06T15:57:03.208033Z",
     "start_time": "2025-03-06T15:57:01.779985Z"
    }
   },
   "cell_type": "code",
   "source": [
    "import yfinance as yf\n",
    "import pandas as pd\n",
    "import ta\n",
    "import matplotlib.pyplot as plt\n",
    "import matplotlib.ticker as ticker\n",
    "from matplotlib.ticker import StrMethodFormatter\n",
    "import telebot\n",
    "from telebot import types"
   ],
   "id": "8f594fcdca266f2f",
   "outputs": [],
   "execution_count": 2
  },
  {
   "metadata": {},
   "cell_type": "markdown",
   "source": "Now let's get the info about the stock, particularly based on RSI and MACD indicators",
   "id": "a4b8492bd2967600"
  },
  {
   "metadata": {
    "ExecuteTime": {
     "end_time": "2025-03-06T15:57:06.398541Z",
     "start_time": "2025-03-06T15:57:05.135632Z"
    }
   },
   "cell_type": "code",
   "source": [
    "data = yf.Ticker('MSFT').history(period='1y').reset_index()\n",
    "data['rsi'] = ta.momentum.RSIIndicator(data['Close'], window=14).rsi()\n",
    "\n",
    "# plt.plot(data['Date'], data['rsi'])"
   ],
   "id": "bfbbe886ca585b75",
   "outputs": [],
   "execution_count": 3
  },
  {
   "metadata": {},
   "cell_type": "markdown",
   "source": "Here we use matplotlib to get the 1 year history graph of the stock",
   "id": "3438b9e690421977"
  },
  {
   "metadata": {
    "ExecuteTime": {
     "end_time": "2025-03-06T15:58:25.008154Z",
     "start_time": "2025-03-06T15:58:24.433967Z"
    }
   },
   "cell_type": "code",
   "source": [
    "data.columns = data.columns.str.lower()\n",
    "width = .6\n",
    "width2 = .3\n",
    "up = data[data['close'] >= data['open']]\n",
    "down = data[data['close'] < data['open']]\n",
    "\n",
    "#define colors to use\n",
    "col1 = 'green'\n",
    "col2 = 'red'\n",
    "\n",
    "#plot up prices\n",
    "plt.bar(up.index, up.close - up.open, width, bottom=up.open, color=col1)\n",
    "plt.bar(up.index, up.high - up.close, width2, bottom=up.close, color=col1)\n",
    "plt.bar(up.index, up.low - up.open, width2, bottom=up.open, color=col1)\n",
    "\n",
    "#plot down prices\n",
    "plt.bar(down.index, down.close - down.open, width, bottom=down.open, color=col2)\n",
    "plt.bar(down.index, down.high - down.open, width2, bottom=down.open, color=col2)\n",
    "plt.bar(down.index, down.low - down.close, width2, bottom=down.close, color=col2)\n",
    "plt.xticks([])\n",
    "#display candlestick chart\n",
    "# plt.show()"
   ],
   "id": "ced588d51c5cb43e",
   "outputs": [
    {
     "data": {
      "text/plain": [
       "([], [])"
      ]
     },
     "execution_count": 13,
     "metadata": {},
     "output_type": "execute_result"
    },
    {
     "data": {
      "text/plain": [
       "<Figure size 640x480 with 1 Axes>"
      ],
      "image/png": "[encoded data removed]"
     },
     "metadata": {},
     "output_type": "display_data"
    }
   ],
   "execution_count": 13
  },
  {
   "metadata": {},
   "cell_type": "markdown",
   "source": [
    "Using the latest RSI and MACD data, we make our decision to buy, sell or  pass.\n",
    "If both macd and rsi show bullish momentum, we will buy\n",
    "If both show bearish momentum, we will sell,\n",
    "Otherwise, we do not recommend to do anything"
   ],
   "id": "ed9607d2bafb4d85"
  },
  {
   "metadata": {
    "ExecuteTime": {
     "end_time": "2025-03-06T15:58:28.525812Z",
     "start_time": "2025-03-06T15:58:28.519337Z"
    }
   },
   "cell_type": "code",
   "source": [
    "data['macd'] = ta.trend.MACD(data['close']).macd_diff()\n",
    "latest = data[['macd', 'rsi']].iloc[-3:]\n",
    "\n",
    "# plt.plot(data['macd'])"
   ],
   "id": "600b4aea47525935",
   "outputs": [],
   "execution_count": 14
  },
  {
   "metadata": {
    "ExecuteTime": {
     "end_time": "2025-03-06T15:58:29.823462Z",
     "start_time": "2025-03-06T15:58:29.818481Z"
    }
   },
   "cell_type": "code",
   "source": [
    "macd_buydecision = (latest['macd'].iloc[-1] - latest['macd'].iloc[-3] > 0) & (latest['macd'].iloc[-1] < 2)\n",
    "rsi_buydecision = (latest['rsi'].mean() < 35) & (latest['rsi'].iloc[-1] - latest['rsi'].iloc[-3] > 3)\n",
    "\n",
    "macd_selldecision = (latest['macd'].iloc[-1] - latest['macd'].iloc[-3] < 0) & (latest['macd'].iloc[-1] > -2)\n",
    "rsi_selldecision = (latest['rsi'].mean() > 70) & (latest['rsi'].iloc[-1] - latest['rsi'].iloc[-3] < 3)"
   ],
   "id": "e4c630822355f4e1",
   "outputs": [],
   "execution_count": 15
  },
  {
   "metadata": {},
   "cell_type": "markdown",
   "source": "Since we have all required info with decisions based on MSFT stock, we can finally build our Telegram bot",
   "id": "95b3fa2c07c8e815"
  },
  {
   "metadata": {
    "ExecuteTime": {
     "end_time": "2025-03-06T16:05:07.093080Z",
     "start_time": "2025-03-06T16:05:06.739764Z"
    }
   },
   "cell_type": "code",
   "source": [
    "token = 'YOUR_TOKEN'\n",
    "bot = telebot.TeleBot(token)\n",
    "@bot.message_handler(commands=['start'])\n",
    "def start_message(message):\n",
    "  bot.send_message(message.chat.id,\"Hi, I'm your pesonal Financial Manager. I'm here to help you decide which popular stock to buy, to sell, or simply pass and wait for another moment. First, let's decide which stock to buy.\")\n",
    "  markup=types.ReplyKeyboardMarkup(resize_keyboard=True)\n",
    "  item1=types.KeyboardButton(\"NVDA\")\n",
    "  markup.add(item1)\n",
    "  item2=types.KeyboardButton(\"INTC\")\n",
    "  markup.add(item2)\n",
    "  item3=types.KeyboardButton(\"TSLA\")\n",
    "  markup.add(item3)\n",
    "  item4=types.KeyboardButton(\"BABA\")\n",
    "  markup.add(item4)\n",
    "  item5=types.KeyboardButton(\"AAPL\")\n",
    "  markup.add(item5)\n",
    "  item6=types.KeyboardButton(\"AMZN\")\n",
    "  markup.add(item6)\n",
    "  bot.send_message(message.chat.id,'If you are willing to invest in another stock, just write it',reply_markup=markup)\n",
    "\n",
    "@bot.message_handler(content_types='text')\n",
    "def message_reply(message):\n",
    "  #Here we get the data\n",
    "    data = yf.Ticker(message.text).history(period='1y').reset_index()\n",
    "    data['rsi'] = ta.momentum.RSIIndicator(data['Close'], window=14).rsi()\n",
    "    data['macd'] = ta.trend.MACD(data['Close']).macd_diff()\n",
    "    latest = round(data[['macd', 'rsi']].iloc[-3:], 2)\n",
    "\n",
    "    #Based on the latest data, we form decision to do\n",
    "    macd_buydecision = (latest['macd'].iloc[-1] - latest['macd'].iloc[-3] > 0)\n",
    "    rsi_buydecision = (latest['rsi'].mean() < 35)\n",
    "\n",
    "    macd_selldecision = (latest['macd'].iloc[-1] - latest['macd'].iloc[-3] < 0)\n",
    "    rsi_selldecision = (latest['rsi'].mean() > 70)\n",
    "\n",
    "    #The 1year graph\n",
    "    data.columns = data.columns.str.lower()\n",
    "    width = .4\n",
    "    width2 = .05\n",
    "    up = data[data['close'] >= data['open']]\n",
    "    down = data[data['close'] < data['open']]\n",
    "    col1 = 'green'\n",
    "    col2 = 'red'\n",
    "    plt.title(message.text)\n",
    "    plt.bar(up.index, up.close - up.open, width, bottom=up.open, color=col1)\n",
    "    plt.bar(up.index, up.high - up.close, width2, bottom=up.close, color=col1)\n",
    "    plt.bar(up.index, up.low - up.open, width2, bottom=up.open, color=col1)\n",
    "    plt.bar(down.index, down.close - down.open, width, bottom=down.open, color=col2)\n",
    "    plt.bar(down.index, down.high - down.open, width2, bottom=down.open, color=col2)\n",
    "    plt.bar(down.index, down.low - down.close, width2, bottom=down.close, color=col2)\n",
    "    plt.xticks([])\n",
    "    plt.gca().yaxis.set_major_formatter(StrMethodFormatter('${x}'))\n",
    "    plt.savefig('graph.png')\n",
    "    plt.close()\n",
    "\n",
    "    #data-driven decision\n",
    "    if macd_buydecision and rsi_buydecision:\n",
    "        bot.send_message(message.chat.id, f'Having applied some basic technical analysis(RSI LEVEL:{latest['rsi'].iloc[-1]}), my suggestion is to buy it as I noticed some possible bullish momentum, but you final decision still stays on you.')\n",
    "        bot.send_photo(message.chat.id, open('graph.png', 'rb'))\n",
    "        bot.send_message(message.chat.id, \"Here is the 1 year graph of the stock. Don't forget that technical analysis is more about trading, and not investments. This analysis is for much faster flow of money\")\n",
    "\n",
    "    elif macd_selldecision and rsi_selldecision:\n",
    "        bot.send_message(message.chat.id, f'Using basic technical analysis(RSI({latest['rsi'].iloc[-1]}) and MACD indicators), my choice is to sell it as I noticed some possible bearish momentum, but you final decision still stays on you.')\n",
    "        bot.send_photo(message.chat.id, open('graph.png', 'rb'))\n",
    "        bot.send_message(message.chat.id, \"Here is the 1 year graph of the stock. Don't forget that technical analysis is more about trading, and   not investments. This analysis is for much faster flow of money\")\n",
    "\n",
    "    else:\n",
    "        bot.send_message(message.chat.id, f'Honestly, I would not recommend to invest in this stock, because it shows some unsure momentum(RSI LEVEL:{latest['rsi'].iloc[-1]}), thus think of another stock, or wait until there is better time')\n",
    "        bot.send_photo(message.chat.id, open('graph.png', 'rb'))\n",
    "        bot.send_message(message.chat.id, \"Here is the 1 year graph of the stock. Don't forget that technical analysis is more about trading, and not investments. This analysis is for much faster flow of money. If you want to invest in this stock for years, you can try smaller amount of money\")\n",
    "bot.infinity_polling()"
   ],
   "id": "cb752c73417e1bfb",
   "outputs": [
    {
     "ename": "ValueError",
     "evalue": "Token must contain a colon",
     "output_type": "error",
     "traceback": [
      "\u001B[31m---------------------------------------------------------------------------\u001B[39m",
      "\u001B[31mValueError\u001B[39m                                Traceback (most recent call last)",
      "\u001B[36mCell\u001B[39m\u001B[36m \u001B[39m\u001B[32mIn[17]\u001B[39m\u001B[32m, line 2\u001B[39m\n\u001B[32m      1\u001B[39m token = \u001B[33m'\u001B[39m\u001B[33mYOUR_TOKEN\u001B[39m\u001B[33m'\u001B[39m\n\u001B[32m----> \u001B[39m\u001B[32m2\u001B[39m bot = \u001B[43mtelebot\u001B[49m\u001B[43m.\u001B[49m\u001B[43mTeleBot\u001B[49m\u001B[43m(\u001B[49m\u001B[43mtoken\u001B[49m\u001B[43m)\u001B[49m\n\u001B[32m      3\u001B[39m \u001B[38;5;129m@bot\u001B[39m.message_handler(commands=[\u001B[33m'\u001B[39m\u001B[33mstart\u001B[39m\u001B[33m'\u001B[39m])\n\u001B[32m      4\u001B[39m \u001B[38;5;28;01mdef\u001B[39;00m\u001B[38;5;250m \u001B[39m\u001B[34mstart_message\u001B[39m(message):\n\u001B[32m      5\u001B[39m   bot.send_message(message.chat.id,\u001B[33m\"\u001B[39m\u001B[33mHi, I\u001B[39m\u001B[33m'\u001B[39m\u001B[33mm your pesonal Financial Manager. I\u001B[39m\u001B[33m'\u001B[39m\u001B[33mm here to help you decide which popular stock to buy, to sell, or simply pass and wait for another moment. First, let\u001B[39m\u001B[33m'\u001B[39m\u001B[33ms decide which stock to buy.\u001B[39m\u001B[33m\"\u001B[39m)\n",
      "\u001B[36mFile \u001B[39m\u001B[32m~\\PycharmProjects\\projecttrading\\.venv\\Lib\\site-packages\\telebot\\__init__.py:196\u001B[39m, in \u001B[36mTeleBot.__init__\u001B[39m\u001B[34m(self, token, parse_mode, threaded, skip_pending, num_threads, next_step_backend, reply_backend, exception_handler, last_update_id, suppress_middleware_excepions, state_storage, use_class_middlewares, disable_web_page_preview, disable_notification, protect_content, allow_sending_without_reply, colorful_logs, validate_token)\u001B[39m\n\u001B[32m    193\u001B[39m \u001B[38;5;28mself\u001B[39m._user = \u001B[38;5;28;01mNone\u001B[39;00m\n\u001B[32m    195\u001B[39m \u001B[38;5;28;01mif\u001B[39;00m validate_token:\n\u001B[32m--> \u001B[39m\u001B[32m196\u001B[39m     \u001B[43mutil\u001B[49m\u001B[43m.\u001B[49m\u001B[43mvalidate_token\u001B[49m\u001B[43m(\u001B[49m\u001B[38;5;28;43mself\u001B[39;49m\u001B[43m.\u001B[49m\u001B[43mtoken\u001B[49m\u001B[43m)\u001B[49m\n\u001B[32m    198\u001B[39m \u001B[38;5;28mself\u001B[39m.bot_id: Union[\u001B[38;5;28mint\u001B[39m, \u001B[38;5;28;01mNone\u001B[39;00m] = util.extract_bot_id(\u001B[38;5;28mself\u001B[39m.token) \u001B[38;5;66;03m# subject to change in future, unspecified\u001B[39;00m\n\u001B[32m    200\u001B[39m \u001B[38;5;66;03m# logs-related\u001B[39;00m\n",
      "\u001B[36mFile \u001B[39m\u001B[32m~\\PycharmProjects\\projecttrading\\.venv\\Lib\\site-packages\\telebot\\util.py:694\u001B[39m, in \u001B[36mvalidate_token\u001B[39m\u001B[34m(token)\u001B[39m\n\u001B[32m    691\u001B[39m     \u001B[38;5;28;01mraise\u001B[39;00m \u001B[38;5;167;01mValueError\u001B[39;00m(\u001B[33m'\u001B[39m\u001B[33mToken must not contain spaces\u001B[39m\u001B[33m'\u001B[39m)\n\u001B[32m    693\u001B[39m \u001B[38;5;28;01mif\u001B[39;00m \u001B[33m'\u001B[39m\u001B[33m:\u001B[39m\u001B[33m'\u001B[39m \u001B[38;5;129;01mnot\u001B[39;00m \u001B[38;5;129;01min\u001B[39;00m token:\n\u001B[32m--> \u001B[39m\u001B[32m694\u001B[39m     \u001B[38;5;28;01mraise\u001B[39;00m \u001B[38;5;167;01mValueError\u001B[39;00m(\u001B[33m'\u001B[39m\u001B[33mToken must contain a colon\u001B[39m\u001B[33m'\u001B[39m)\n\u001B[32m    696\u001B[39m \u001B[38;5;28;01mif\u001B[39;00m \u001B[38;5;28mlen\u001B[39m(token.split(\u001B[33m'\u001B[39m\u001B[33m:\u001B[39m\u001B[33m'\u001B[39m)) != \u001B[32m2\u001B[39m:\n\u001B[32m    697\u001B[39m     \u001B[38;5;28;01mraise\u001B[39;00m \u001B[38;5;167;01mValueError\u001B[39;00m(\u001B[33m'\u001B[39m\u001B[33mToken must contain exactly 2 parts separated by a colon\u001B[39m\u001B[33m'\u001B[39m)\n",
      "\u001B[31mValueError\u001B[39m: Token must contain a colon"
     ]
    }
   ],
   "execution_count": 17
  }
 ],
 "metadata": {
  "kernelspec": {
   "display_name": "Python 3",
   "language": "python",
   "name": "python3"
  },
  "language_info": {
   "codemirror_mode": {
    "name": "ipython",
    "version": 2
   },
   "file_extension": ".py",
   "mimetype": "text/x-python",
   "name": "python",
   "nbconvert_exporter": "python",
   "pygments_lexer": "ipython2",
   "version": "2.7.6"
  }
 },
 "nbformat": 4,
 "nbformat_minor": 5
}
